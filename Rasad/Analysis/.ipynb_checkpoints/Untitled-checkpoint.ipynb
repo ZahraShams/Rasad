{
 "cells": [
  {
   "cell_type": "markdown",
   "id": "95dc1ad1",
   "metadata": {},
   "source": [
    " Understand the shape of the data (Histograms, box plots, etc.)\n",
    " بررسی وضعیت رشته های وزارت علوم\n"
   ]
  },
  {
   "cell_type": "code",
   "execution_count": 104,
   "id": "afedad88",
   "metadata": {},
   "outputs": [],
   "source": [
    "import pandas as pd\n",
    "from pathlib import Path\n"
   ]
  },
  {
   "cell_type": "markdown",
   "id": "424acbd2",
   "metadata": {},
   "source": [
    "Read xlsx file with file path"
   ]
  },
  {
   "cell_type": "code",
   "execution_count": 105,
   "id": "fb6fef51",
   "metadata": {},
   "outputs": [],
   "source": [
    "file_path = Path(\"/Users/zahramousavi/Documents/python-WP/Rasad/Rasad/Analysis/LookUpData/reshteha.xlsx\")\n",
    "file_extension = file_path.suffix.lower()[1:]\n",
    "df\n",
    "\n",
    "if file_extension == 'xlsx':\n",
    "    df = pd.read_excel(file_path,engine='openpyxl')  \n",
    "elif file_extension == 'xls':\n",
    "    df = pd.read_excel(file_path)\n",
    "elif file_extension == 'csv':\n",
    "    df = pd.read_csv(file_path)\n",
    "else:\n",
    "    raise Exception(\"File not supported\")"
   ]
  },
  {
   "cell_type": "markdown",
   "id": "bf222031",
   "metadata": {},
   "source": [
    "Todo: Read xlsx file from git remote url"
   ]
  },
  {
   "cell_type": "code",
   "execution_count": 106,
   "id": "d57ea37a",
   "metadata": {},
   "outputs": [
    {
     "data": {
      "text/html": [
       "<div>\n",
       "<style scoped>\n",
       "    .dataframe tbody tr th:only-of-type {\n",
       "        vertical-align: middle;\n",
       "    }\n",
       "\n",
       "    .dataframe tbody tr th {\n",
       "        vertical-align: top;\n",
       "    }\n",
       "\n",
       "    .dataframe thead th {\n",
       "        text-align: right;\n",
       "    }\n",
       "</style>\n",
       "<table border=\"1\" class=\"dataframe\">\n",
       "  <thead>\n",
       "    <tr style=\"text-align: right;\">\n",
       "      <th></th>\n",
       "      <th>عنوان رشته</th>\n",
       "      <th>مقطع تحصیلی</th>\n",
       "      <th>تاریخ تصویب</th>\n",
       "      <th>وضعیت</th>\n",
       "      <th>نوع مصوبه</th>\n",
       "      <th>زیر گروه تحصیلی</th>\n",
       "      <th>نام مصوبه اصلی</th>\n",
       "      <th>نام مصوبه بعدی</th>\n",
       "      <th>شماره مصوبه</th>\n",
       "      <th>گروه تحصیلی</th>\n",
       "      <th>فایل</th>\n",
       "    </tr>\n",
       "  </thead>\n",
       "  <tbody>\n",
       "    <tr>\n",
       "      <th>0</th>\n",
       "      <td>آبخیزداری</td>\n",
       "      <td>کاردانی ناپیوسته</td>\n",
       "      <td>1376/08/25</td>\n",
       "      <td>&lt;span class='text-danger'&gt;منسوخ&lt;/span&gt;</td>\n",
       "      <td>تدوین</td>\n",
       "      <td>کشاورزی</td>\n",
       "      <td>-</td>\n",
       "      <td>-</td>\n",
       "      <td>349</td>\n",
       "      <td>علمی و کاربردی</td>\n",
       "      <td>&lt;a href=\"http://hes.msrt.ir/GetFile.php?ClassN...</td>\n",
       "    </tr>\n",
       "    <tr>\n",
       "      <th>1</th>\n",
       "      <td>آبخیزداری</td>\n",
       "      <td>کاردانی ناپیوسته</td>\n",
       "      <td>1388/08/17</td>\n",
       "      <td>&lt;span class='text-danger'&gt;منسوخ&lt;/span&gt;</td>\n",
       "      <td>بازنگری</td>\n",
       "      <td>کشاورزی</td>\n",
       "      <td>-</td>\n",
       "      <td>-</td>\n",
       "      <td>144</td>\n",
       "      <td>علمی و کاربردی</td>\n",
       "      <td>&lt;a href=\"http://hes.msrt.ir/GetFile.php?ClassN...</td>\n",
       "    </tr>\n",
       "    <tr>\n",
       "      <th>2</th>\n",
       "      <td>آتش نشانی و خدمات ایمنی با گرایش مدیریت عملیات...</td>\n",
       "      <td>کارشناسی ناپیوسته</td>\n",
       "      <td>1385/03/06</td>\n",
       "      <td>&lt;span class='text-danger'&gt;منسوخ&lt;/span&gt;</td>\n",
       "      <td>تدوین</td>\n",
       "      <td>مدیریت و خدمات اجتماعی</td>\n",
       "      <td>-</td>\n",
       "      <td>-</td>\n",
       "      <td>69</td>\n",
       "      <td>علمی و کاربردی</td>\n",
       "      <td>&lt;a href=\"http://hes.msrt.ir/GetFile.php?ClassN...</td>\n",
       "    </tr>\n",
       "    <tr>\n",
       "      <th>3</th>\n",
       "      <td>آتش نشانی و خدمات ایمنی گرایش ایمنی و حفاظت سا...</td>\n",
       "      <td>کاردانی ناپیوسته</td>\n",
       "      <td>1383/08/02</td>\n",
       "      <td>&lt;span class='text-danger'&gt;منسوخ&lt;/span&gt;</td>\n",
       "      <td>تدوین</td>\n",
       "      <td>مدیریت و خدمات اجتماعی</td>\n",
       "      <td>-</td>\n",
       "      <td>-</td>\n",
       "      <td>39</td>\n",
       "      <td>علمی و کاربردی</td>\n",
       "      <td>&lt;a href=\"http://hes.msrt.ir/GetFile.php?ClassN...</td>\n",
       "    </tr>\n",
       "    <tr>\n",
       "      <th>4</th>\n",
       "      <td>آتش نشانی و خدمات ایمنی گرایش مدیریت عملیات در...</td>\n",
       "      <td>کارشناسی ناپیوسته</td>\n",
       "      <td>1384/07/16</td>\n",
       "      <td>&lt;span class='text-danger'&gt;منسوخ&lt;/span&gt;</td>\n",
       "      <td>تدوین</td>\n",
       "      <td>مدیریت و خدمات اجتماعی</td>\n",
       "      <td>-</td>\n",
       "      <td>-</td>\n",
       "      <td>55</td>\n",
       "      <td>علمی و کاربردی</td>\n",
       "      <td>&lt;a href=\"http://hes.msrt.ir/GetFile.php?ClassN...</td>\n",
       "    </tr>\n",
       "    <tr>\n",
       "      <th>...</th>\n",
       "      <td>...</td>\n",
       "      <td>...</td>\n",
       "      <td>...</td>\n",
       "      <td>...</td>\n",
       "      <td>...</td>\n",
       "      <td>...</td>\n",
       "      <td>...</td>\n",
       "      <td>...</td>\n",
       "      <td>...</td>\n",
       "      <td>...</td>\n",
       "      <td>...</td>\n",
       "    </tr>\n",
       "    <tr>\n",
       "      <th>5720</th>\n",
       "      <td>گیاه پزشکی</td>\n",
       "      <td>کاردانی ناپیوسته</td>\n",
       "      <td>1391/06/19</td>\n",
       "      <td>فعال</td>\n",
       "      <td>بازنگری</td>\n",
       "      <td>کشاورزی</td>\n",
       "      <td>-</td>\n",
       "      <td>-</td>\n",
       "      <td>204</td>\n",
       "      <td>علمی و کاربردی</td>\n",
       "      <td>&lt;a href=\"http://hes.msrt.ir/GetFile.php?ClassN...</td>\n",
       "    </tr>\n",
       "    <tr>\n",
       "      <th>5721</th>\n",
       "      <td>گیاهپزشکی</td>\n",
       "      <td>کارشناسی پیوسته</td>\n",
       "      <td>1394/12/09</td>\n",
       "      <td>&lt;span class='text-danger'&gt;منسوخ&lt;/span&gt;</td>\n",
       "      <td>بازنگری</td>\n",
       "      <td>گیاه پزشکی</td>\n",
       "      <td>-</td>\n",
       "      <td>-</td>\n",
       "      <td>61</td>\n",
       "      <td>کشاورزی</td>\n",
       "      <td>&lt;a href=\"http://hes.msrt.ir/GetFile.php?ClassN...</td>\n",
       "    </tr>\n",
       "    <tr>\n",
       "      <th>5722</th>\n",
       "      <td>یادگیری الکترونیکی</td>\n",
       "      <td>کارشناسی ارشد ناپیوسته</td>\n",
       "      <td>1399/05/20</td>\n",
       "      <td>فعال</td>\n",
       "      <td>تدوین</td>\n",
       "      <td>مهندسی کامپیوتر</td>\n",
       "      <td>-</td>\n",
       "      <td>-</td>\n",
       "      <td>931</td>\n",
       "      <td>فنی و مهندسی</td>\n",
       "      <td>&lt;a href=\"http://hes.msrt.ir/GetFile.php?ClassN...</td>\n",
       "    </tr>\n",
       "    <tr>\n",
       "      <th>5723</th>\n",
       "      <td>‌بهره برداری</td>\n",
       "      <td>کاردانی ناپیوسته</td>\n",
       "      <td>1371/04/27</td>\n",
       "      <td>&lt;span class='text-danger'&gt;منسوخ&lt;/span&gt;</td>\n",
       "      <td>تدوین</td>\n",
       "      <td>مدیریت و خدمات اجتماعی</td>\n",
       "      <td>-</td>\n",
       "      <td>-</td>\n",
       "      <td>94</td>\n",
       "      <td>علمی و کاربردی</td>\n",
       "      <td>&lt;a href=\"http://hes.msrt.ir/GetFile.php?ClassN...</td>\n",
       "    </tr>\n",
       "    <tr>\n",
       "      <th>5724</th>\n",
       "      <td>‌مهندسی فناوری اطلاعات-شبکه های کامپیوتری</td>\n",
       "      <td>کارشناسی ارشد ناپیوسته</td>\n",
       "      <td>1383/10/20</td>\n",
       "      <td>&lt;span class='text-danger'&gt;منسوخ&lt;/span&gt;</td>\n",
       "      <td>تدوین</td>\n",
       "      <td>فناوری اطلاعات</td>\n",
       "      <td>-</td>\n",
       "      <td>-</td>\n",
       "      <td>13831020</td>\n",
       "      <td>فنی و مهندسی</td>\n",
       "      <td>&lt;a href=\"http://hes.msrt.ir/GetFile.php?ClassN...</td>\n",
       "    </tr>\n",
       "  </tbody>\n",
       "</table>\n",
       "<p>5725 rows × 11 columns</p>\n",
       "</div>"
      ],
      "text/plain": [
       "                                             عنوان رشته  \\\n",
       "0                                             آبخیزداری   \n",
       "1                                             آبخیزداری   \n",
       "2     آتش نشانی و خدمات ایمنی با گرایش مدیریت عملیات...   \n",
       "3     آتش نشانی و خدمات ایمنی گرایش ایمنی و حفاظت سا...   \n",
       "4     آتش نشانی و خدمات ایمنی گرایش مدیریت عملیات در...   \n",
       "...                                                 ...   \n",
       "5720                                         گیاه پزشکی   \n",
       "5721                                          گیاهپزشکی   \n",
       "5722                                 یادگیری الکترونیکی   \n",
       "5723                                       ‌بهره برداری   \n",
       "5724          ‌مهندسی فناوری اطلاعات-شبکه های کامپیوتری   \n",
       "\n",
       "                 مقطع تحصیلی تاریخ تصویب  \\\n",
       "0           کاردانی ناپیوسته  1376/08/25   \n",
       "1           کاردانی ناپیوسته  1388/08/17   \n",
       "2          کارشناسی ناپیوسته  1385/03/06   \n",
       "3           کاردانی ناپیوسته  1383/08/02   \n",
       "4          کارشناسی ناپیوسته  1384/07/16   \n",
       "...                      ...         ...   \n",
       "5720        کاردانی ناپیوسته  1391/06/19   \n",
       "5721         کارشناسی پیوسته  1394/12/09   \n",
       "5722  کارشناسی ارشد ناپیوسته  1399/05/20   \n",
       "5723        کاردانی ناپیوسته  1371/04/27   \n",
       "5724  کارشناسی ارشد ناپیوسته  1383/10/20   \n",
       "\n",
       "                                       وضعیت نوع مصوبه  \\\n",
       "0     <span class='text-danger'>منسوخ</span>     تدوین   \n",
       "1     <span class='text-danger'>منسوخ</span>   بازنگری   \n",
       "2     <span class='text-danger'>منسوخ</span>     تدوین   \n",
       "3     <span class='text-danger'>منسوخ</span>     تدوین   \n",
       "4     <span class='text-danger'>منسوخ</span>     تدوین   \n",
       "...                                      ...       ...   \n",
       "5720                                    فعال   بازنگری   \n",
       "5721  <span class='text-danger'>منسوخ</span>   بازنگری   \n",
       "5722                                    فعال     تدوین   \n",
       "5723  <span class='text-danger'>منسوخ</span>     تدوین   \n",
       "5724  <span class='text-danger'>منسوخ</span>     تدوین   \n",
       "\n",
       "             زیر گروه تحصیلی نام مصوبه اصلی نام مصوبه بعدی شماره مصوبه  \\\n",
       "0                    کشاورزی              -              -         349   \n",
       "1                    کشاورزی              -              -         144   \n",
       "2     مدیریت و خدمات اجتماعی              -              -          69   \n",
       "3     مدیریت و خدمات اجتماعی              -              -          39   \n",
       "4     مدیریت و خدمات اجتماعی              -              -          55   \n",
       "...                      ...            ...            ...         ...   \n",
       "5720                 کشاورزی              -              -         204   \n",
       "5721              گیاه پزشکی              -              -          61   \n",
       "5722         مهندسی کامپیوتر              -              -         931   \n",
       "5723  مدیریت و خدمات اجتماعی              -              -          94   \n",
       "5724          فناوری اطلاعات              -              -    13831020   \n",
       "\n",
       "         گروه تحصیلی                                               فایل  \n",
       "0     علمی و کاربردی  <a href=\"http://hes.msrt.ir/GetFile.php?ClassN...  \n",
       "1     علمی و کاربردی  <a href=\"http://hes.msrt.ir/GetFile.php?ClassN...  \n",
       "2     علمی و کاربردی  <a href=\"http://hes.msrt.ir/GetFile.php?ClassN...  \n",
       "3     علمی و کاربردی  <a href=\"http://hes.msrt.ir/GetFile.php?ClassN...  \n",
       "4     علمی و کاربردی  <a href=\"http://hes.msrt.ir/GetFile.php?ClassN...  \n",
       "...              ...                                                ...  \n",
       "5720  علمی و کاربردی  <a href=\"http://hes.msrt.ir/GetFile.php?ClassN...  \n",
       "5721         کشاورزی  <a href=\"http://hes.msrt.ir/GetFile.php?ClassN...  \n",
       "5722    فنی و مهندسی  <a href=\"http://hes.msrt.ir/GetFile.php?ClassN...  \n",
       "5723  علمی و کاربردی  <a href=\"http://hes.msrt.ir/GetFile.php?ClassN...  \n",
       "5724    فنی و مهندسی  <a href=\"http://hes.msrt.ir/GetFile.php?ClassN...  \n",
       "\n",
       "[5725 rows x 11 columns]"
      ]
     },
     "metadata": {},
     "output_type": "display_data"
    }
   ],
   "source": [
    "\n",
    "    \n",
    "display(df)\n",
    "\n"
   ]
  },
  {
   "cell_type": "code",
   "execution_count": 107,
   "id": "666f3a7b",
   "metadata": {},
   "outputs": [
    {
     "name": "stdout",
     "output_type": "stream",
     "text": [
      "Index(['عنوان رشته', 'مقطع تحصیلی', 'تاریخ تصویب', 'وضعیت', 'نوع مصوبه',\n",
      "       ' زیر گروه تحصیلی', 'نام مصوبه اصلی', 'نام مصوبه بعدی', 'شماره مصوبه',\n",
      "       'گروه تحصیلی', 'فایل'],\n",
      "      dtype='object')\n"
     ]
    }
   ],
   "source": [
    "# print (df.shape)\n",
    "\n",
    "# display (df.head(1))\n",
    "print(df.columns)\n",
    "\n",
    "\n",
    "\n",
    "\n"
   ]
  },
  {
   "cell_type": "code",
   "execution_count": 108,
   "id": "c7625c10",
   "metadata": {},
   "outputs": [
    {
     "data": {
      "text/html": [
       "<div>\n",
       "<style scoped>\n",
       "    .dataframe tbody tr th:only-of-type {\n",
       "        vertical-align: middle;\n",
       "    }\n",
       "\n",
       "    .dataframe tbody tr th {\n",
       "        vertical-align: top;\n",
       "    }\n",
       "\n",
       "    .dataframe thead th {\n",
       "        text-align: right;\n",
       "    }\n",
       "</style>\n",
       "<table border=\"1\" class=\"dataframe\">\n",
       "  <thead>\n",
       "    <tr style=\"text-align: right;\">\n",
       "      <th></th>\n",
       "      <th>عنوان رشته</th>\n",
       "      <th>مقطع تحصیلی</th>\n",
       "      <th>تاریخ تصویب</th>\n",
       "      <th>وضعیت</th>\n",
       "      <th>نوع مصوبه</th>\n",
       "      <th>زیر گروه تحصیلی</th>\n",
       "      <th>نام مصوبه اصلی</th>\n",
       "      <th>نام مصوبه بعدی</th>\n",
       "      <th>شماره مصوبه</th>\n",
       "      <th>گروه تحصیلی</th>\n",
       "      <th>فایل</th>\n",
       "    </tr>\n",
       "  </thead>\n",
       "  <tbody>\n",
       "    <tr>\n",
       "      <th>count</th>\n",
       "      <td>5725</td>\n",
       "      <td>5725</td>\n",
       "      <td>5725</td>\n",
       "      <td>5725</td>\n",
       "      <td>5725</td>\n",
       "      <td>5725</td>\n",
       "      <td>5725</td>\n",
       "      <td>5725</td>\n",
       "      <td>5725</td>\n",
       "      <td>5725</td>\n",
       "      <td>5725</td>\n",
       "    </tr>\n",
       "    <tr>\n",
       "      <th>unique</th>\n",
       "      <td>4403</td>\n",
       "      <td>13</td>\n",
       "      <td>1029</td>\n",
       "      <td>2</td>\n",
       "      <td>3</td>\n",
       "      <td>76</td>\n",
       "      <td>1</td>\n",
       "      <td>1</td>\n",
       "      <td>833</td>\n",
       "      <td>10</td>\n",
       "      <td>5207</td>\n",
       "    </tr>\n",
       "    <tr>\n",
       "      <th>top</th>\n",
       "      <td>حسابداری</td>\n",
       "      <td>کارشناسی ارشد ناپیوسته</td>\n",
       "      <td>1391/10/10</td>\n",
       "      <td>فعال</td>\n",
       "      <td>تدوین</td>\n",
       "      <td>صنعت</td>\n",
       "      <td>-</td>\n",
       "      <td>-</td>\n",
       "      <td>414</td>\n",
       "      <td>علمی و کاربردی</td>\n",
       "      <td>&lt;a href=\"http://hes.msrt.ir/GetFile.php?ClassN...</td>\n",
       "    </tr>\n",
       "    <tr>\n",
       "      <th>freq</th>\n",
       "      <td>13</td>\n",
       "      <td>1874</td>\n",
       "      <td>245</td>\n",
       "      <td>3137</td>\n",
       "      <td>3869</td>\n",
       "      <td>706</td>\n",
       "      <td>5725</td>\n",
       "      <td>5725</td>\n",
       "      <td>247</td>\n",
       "      <td>1699</td>\n",
       "      <td>10</td>\n",
       "    </tr>\n",
       "  </tbody>\n",
       "</table>\n",
       "</div>"
      ],
      "text/plain": [
       "       عنوان رشته             مقطع تحصیلی تاریخ تصویب وضعیت نوع مصوبه  \\\n",
       "count        5725                    5725        5725  5725      5725   \n",
       "unique       4403                      13        1029     2         3   \n",
       "top      حسابداری  کارشناسی ارشد ناپیوسته  1391/10/10  فعال     تدوین   \n",
       "freq           13                    1874         245  3137      3869   \n",
       "\n",
       "        زیر گروه تحصیلی نام مصوبه اصلی نام مصوبه بعدی  شماره مصوبه  \\\n",
       "count              5725           5725           5725         5725   \n",
       "unique               76              1              1          833   \n",
       "top                صنعت              -              -          414   \n",
       "freq                706           5725           5725          247   \n",
       "\n",
       "           گروه تحصیلی                                               فایل  \n",
       "count             5725                                               5725  \n",
       "unique              10                                               5207  \n",
       "top     علمی و کاربردی  <a href=\"http://hes.msrt.ir/GetFile.php?ClassN...  \n",
       "freq              1699                                                 10  "
      ]
     },
     "execution_count": 108,
     "metadata": {},
     "output_type": "execute_result"
    }
   ],
   "source": [
    "df.describe()\n"
   ]
  },
  {
   "cell_type": "markdown",
   "id": "184eecc4",
   "metadata": {},
   "source": [
    "So we have only Categorical Data"
   ]
  },
  {
   "cell_type": "code",
   "execution_count": 109,
   "id": "c51c401f",
   "metadata": {},
   "outputs": [
    {
     "name": "stdout",
     "output_type": "stream",
     "text": [
      "<class 'pandas.core.frame.DataFrame'>\n",
      "RangeIndex: 5725 entries, 0 to 5724\n",
      "Data columns (total 11 columns):\n",
      " #   Column            Non-Null Count  Dtype \n",
      "---  ------            --------------  ----- \n",
      " 0   عنوان رشته        5725 non-null   object\n",
      " 1   مقطع تحصیلی       5725 non-null   object\n",
      " 2   تاریخ تصویب       5725 non-null   object\n",
      " 3   وضعیت             5725 non-null   object\n",
      " 4   نوع مصوبه         5725 non-null   object\n",
      " 5    زیر گروه تحصیلی  5725 non-null   object\n",
      " 6   نام مصوبه اصلی    5725 non-null   object\n",
      " 7   نام مصوبه بعدی    5725 non-null   object\n",
      " 8   شماره مصوبه       5725 non-null   object\n",
      " 9   گروه تحصیلی       5725 non-null   object\n",
      " 10  فایل              5725 non-null   object\n",
      "dtypes: object(11)\n",
      "memory usage: 492.1+ KB\n"
     ]
    }
   ],
   "source": [
    "df.info()\n",
    "#remeber that string tyoe is object in python!!"
   ]
  },
  {
   "cell_type": "code",
   "execution_count": 110,
   "id": "100055e0",
   "metadata": {},
   "outputs": [],
   "source": [
    "# fix vaziat e mansukh value\n",
    "import numpy as np\n",
    "\n",
    "status = \"وضعیت\"\n",
    "deprecated = \"منسوخ\"\n",
    "group = \"گروه تحصیلی\"\n",
    "maghta = 'مقطع تحصیلی'\n",
    "\n",
    "\n",
    "# # df['<column_name>'] = np.where((<filter 1> ) & (<filter 2>) , <new value>, df['column_name'])\n",
    "df.loc[(df[status].str.contains(deprecated)), status] = deprecated\n",
    "# print(df)\n",
    "\n",
    "\n",
    "# (df[df[status].str.contains(deprecated)]).describe()\n",
    "\n",
    "\n",
    "\n"
   ]
  },
  {
   "cell_type": "code",
   "execution_count": 111,
   "id": "53714ff4",
   "metadata": {},
   "outputs": [
    {
     "name": "stderr",
     "output_type": "stream",
     "text": [
      "/Users/zahramousavi/opt/anaconda3/lib/python3.9/site-packages/pandas/core/apply.py:507: FutureWarning: Dropping invalid columns in DataFrameGroupBy.mean is deprecated. In a future version, a TypeError will be raised. Before calling .mean, select only columns which should be valid for the function.\n",
      "  return self._try_aggregate_string_function(obj, f, *self.args, **self.kwargs)\n"
     ]
    },
    {
     "data": {
      "text/html": [
       "<div>\n",
       "<style scoped>\n",
       "    .dataframe tbody tr th:only-of-type {\n",
       "        vertical-align: middle;\n",
       "    }\n",
       "\n",
       "    .dataframe tbody tr th {\n",
       "        vertical-align: top;\n",
       "    }\n",
       "\n",
       "    .dataframe thead th {\n",
       "        text-align: right;\n",
       "    }\n",
       "</style>\n",
       "<table border=\"1\" class=\"dataframe\">\n",
       "  <thead>\n",
       "    <tr style=\"text-align: right;\">\n",
       "      <th></th>\n",
       "    </tr>\n",
       "    <tr>\n",
       "      <th>مقطع تحصیلی</th>\n",
       "    </tr>\n",
       "  </thead>\n",
       "  <tbody>\n",
       "    <tr>\n",
       "      <th>دکترا مستقیم</th>\n",
       "    </tr>\n",
       "    <tr>\n",
       "      <th>دکتری تخصصی</th>\n",
       "    </tr>\n",
       "    <tr>\n",
       "      <th>دکتری دستیاری</th>\n",
       "    </tr>\n",
       "    <tr>\n",
       "      <th>دکتری عمومی</th>\n",
       "    </tr>\n",
       "    <tr>\n",
       "      <th>دکتری پیوسته</th>\n",
       "    </tr>\n",
       "    <tr>\n",
       "      <th>دیپلم</th>\n",
       "    </tr>\n",
       "    <tr>\n",
       "      <th>دیپلمای دانشگاهی</th>\n",
       "    </tr>\n",
       "    <tr>\n",
       "      <th>کاردانی ناپیوسته</th>\n",
       "    </tr>\n",
       "    <tr>\n",
       "      <th>کاردانی پیوسته</th>\n",
       "    </tr>\n",
       "    <tr>\n",
       "      <th>کارشناسی ارشد ناپیوسته</th>\n",
       "    </tr>\n",
       "    <tr>\n",
       "      <th>کارشناسی ارشد پیوسته</th>\n",
       "    </tr>\n",
       "    <tr>\n",
       "      <th>کارشناسی ناپیوسته</th>\n",
       "    </tr>\n",
       "    <tr>\n",
       "      <th>کارشناسی پیوسته</th>\n",
       "    </tr>\n",
       "  </tbody>\n",
       "</table>\n",
       "</div>"
      ],
      "text/plain": [
       "Empty DataFrame\n",
       "Columns: []\n",
       "Index: [دکترا مستقیم, دکتری تخصصی, دکتری دستیاری, دکتری عمومی, دکتری پیوسته, دیپلم, دیپلمای دانشگاهی, کاردانی ناپیوسته, کاردانی پیوسته, کارشناسی ارشد ناپیوسته, کارشناسی ارشد پیوسته, کارشناسی ناپیوسته, کارشناسی پیوسته]"
      ]
     },
     "execution_count": 111,
     "metadata": {},
     "output_type": "execute_result"
    }
   ],
   "source": [
    "pd.pivot_table(df, index = 'مقطع تحصیلی', values = ['وضعیت'])"
   ]
  },
  {
   "cell_type": "code",
   "execution_count": 112,
   "id": "ee5892d1",
   "metadata": {},
   "outputs": [
    {
     "name": "stderr",
     "output_type": "stream",
     "text": [
      "/Users/zahramousavi/opt/anaconda3/lib/python3.9/site-packages/seaborn/_decorators.py:36: FutureWarning: Pass the following variables as keyword args: x, y. From version 0.12, the only valid positional argument will be `data`, and passing other arguments without an explicit keyword will result in an error or misinterpretation.\n",
      "  warnings.warn(\n"
     ]
    },
    {
     "data": {
      "image/png": "[encoded data removed]",
      "text/plain": [
       "<Figure size 432x288 with 1 Axes>"
      ]
     },
     "metadata": {
      "needs_background": "light"
     },
     "output_type": "display_data"
    },
    {
     "name": "stderr",
     "output_type": "stream",
     "text": [
      "/Users/zahramousavi/opt/anaconda3/lib/python3.9/site-packages/seaborn/_decorators.py:36: FutureWarning: Pass the following variables as keyword args: x, y. From version 0.12, the only valid positional argument will be `data`, and passing other arguments without an explicit keyword will result in an error or misinterpretation.\n",
      "  warnings.warn(\n"
     ]
    },
    {
     "data": {
      "image/png": "[encoded data removed]",
      "text/plain": [
       "<Figure size 432x288 with 1 Axes>"
      ]
     },
     "metadata": {
      "needs_background": "light"
     },
     "output_type": "display_data"
    },
    {
     "name": "stderr",
     "output_type": "stream",
     "text": [
      "/Users/zahramousavi/opt/anaconda3/lib/python3.9/site-packages/seaborn/_decorators.py:36: FutureWarning: Pass the following variables as keyword args: x, y. From version 0.12, the only valid positional argument will be `data`, and passing other arguments without an explicit keyword will result in an error or misinterpretation.\n",
      "  warnings.warn(\n"
     ]
    },
    {
     "data": {
      "image/png": "[encoded data removed]",
      "text/plain": [
       "<Figure size 432x288 with 1 Axes>"
      ]
     },
     "metadata": {
      "needs_background": "light"
     },
     "output_type": "display_data"
    }
   ],
   "source": [
    "import seaborn as sns \n",
    "\n",
    "filteredDf = df[[\"وضعیت\",\"مقطع تحصیلی\",\"گروه تحصیلی\"]]\n",
    "\n",
    "for i in filteredDf.columns:\n",
    "    sns.barplot(filteredDf[i].value_counts().index,filteredDf[i].value_counts()).set_title(i)\n",
    "    plt.show()"
   ]
  },
  {
   "cell_type": "code",
   "execution_count": 115,
   "id": "2427ecde",
   "metadata": {},
   "outputs": [
    {
     "name": "stdout",
     "output_type": "stream",
     "text": [
      "وضعیت                     فعال  منسوخ\n",
      "مقطع تحصیلی                          \n",
      "دکترا مستقیم               2.0    NaN\n",
      "دکتری تخصصی              633.0  332.0\n",
      "دکتری دستیاری             11.0   15.0\n",
      "دکتری عمومی                1.0    1.0\n",
      "دکتری پیوسته               2.0    NaN\n",
      "دیپلم                      NaN    1.0\n",
      "دیپلمای دانشگاهی           5.0    1.0\n",
      "کاردانی ناپیوسته         540.0  606.0\n",
      "کاردانی پیوسته            60.0   95.0\n",
      "کارشناسی ارشد ناپیوسته  1118.0  756.0\n",
      "کارشناسی ارشد پیوسته      17.0    5.0\n",
      "کارشناسی ناپیوسته        391.0  256.0\n",
      "کارشناسی پیوسته          357.0  520.0\n",
      "\n"
     ]
    }
   ],
   "source": [
    "\n",
    "\n",
    "# Comparing survival and each of these categorical variables \n",
    "pv_table = pd.pivot_table(filteredDf, index = maghta, columns = status, values = group ,aggfunc ='count')\n",
    "print(pv_table)\n",
    "print()\n",
    "# print(pd.pivot_table(training, index = 'Survived', columns = 'Sex', values = 'Ticket' ,aggfunc ='count'))\n",
    "# print()\n",
    "# print(pd.pivot_table(training, index = 'Survived', columns = 'Embarked', values = 'Ticket' ,aggfunc ='count'))"
   ]
  },
  {
   "cell_type": "code",
   "execution_count": 135,
   "id": "6e0375d1",
   "metadata": {},
   "outputs": [
    {
     "name": "stdout",
     "output_type": "stream",
     "text": [
      "['فعال', 'منسوخ']\n"
     ]
    }
   ],
   "source": [
    "def plot_row(row,df) :\n",
    "    sns.barplot(df[row].index,filteredDf[i].value_counts()).set_title(i)\n",
    "    plt.show()\n",
    "\n",
    "\n",
    "\n",
    "\n",
    "# result = [print(x)  for x in pv_table]\n",
    "# print(pv_table.columns)\n",
    "# for i in pv_table.columns:\n",
    "#     sns.barplot(pv_table[i].index,filteredDf[i].value_counts()).set_title(i)\n",
    "#     plt.show()\n",
    "\n",
    "result = [print(pv_table[x])  for x  in pv_table]\n",
    "\n",
    "result.descripbe()"
   ]
  },
  {
   "cell_type": "code",
   "execution_count": null,
   "id": "6964208b",
   "metadata": {},
   "outputs": [],
   "source": []
  }
 ],
 "metadata": {
  "kernelspec": {
   "display_name": "Python 3 (ipykernel)",
   "language": "python",
   "name": "python3"
  },
  "language_info": {
   "codemirror_mode": {
    "name": "ipython",
    "version": 3
   },
   "file_extension": ".py",
   "mimetype": "text/x-python",
   "name": "python",
   "nbconvert_exporter": "python",
   "pygments_lexer": "ipython3",
   "version": "3.9.7"
  }
 },
 "nbformat": 4,
 "nbformat_minor": 5
}
